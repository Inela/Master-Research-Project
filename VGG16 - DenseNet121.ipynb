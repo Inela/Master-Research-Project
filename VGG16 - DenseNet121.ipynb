{
 "cells": [
  {
   "cell_type": "markdown",
   "metadata": {},
   "source": [
    "### VGG16"
   ]
  },
  {
   "cell_type": "code",
   "execution_count": 13,
   "metadata": {},
   "outputs": [
    {
     "name": "stderr",
     "output_type": "stream",
     "text": [
      "Using TensorFlow backend.\n"
     ]
    }
   ],
   "source": [
    "from keras.applications import VGG16\n",
    "conv_base = VGG16(weights='imagenet',\n",
    "include_top=False,\n",
    "input_shape=( 150, 150, 3))"
   ]
  },
  {
   "cell_type": "markdown",
   "metadata": {},
   "source": [
    "### FAST FEATURE EXTRACTION WITHOUT DATA AUGMENTATION"
   ]
  },
  {
   "cell_type": "code",
   "execution_count": 14,
   "metadata": {},
   "outputs": [],
   "source": [
    "import os\n",
    "import numpy as np\n",
    "from keras.preprocessing.image import ImageDataGenerator\n",
    "base_dir = 'C:\\\\Ryerson Courses\\\\MRP Project\\\\Kaggle Diabetic Retinopathy data\\\\train data\\\\train_all'\n",
    "train_dir = os.path.join(base_dir, 'train')\n",
    "validation_dir = os.path.join(base_dir, 'validation')\n",
    "test_dir = os.path.join(base_dir, 'test')\n",
    "datagen = ImageDataGenerator(rescale=1./255)\n",
    "batch_size = 20\n"
   ]
  },
  {
   "cell_type": "code",
   "execution_count": 15,
   "metadata": {},
   "outputs": [],
   "source": [
    "def extract_features(directory, sample_count):\n",
    " features = np.zeros(shape=(sample_count, 4, 4, 512))\n",
    " labels = np.zeros(shape=(sample_count , 5))\n",
    " generator = datagen.flow_from_directory(\n",
    "   directory,\n",
    "   target_size=(150, 150 ),\n",
    "   batch_size=batch_size,\n",
    "   class_mode='categorical')\n",
    " i = 0\n",
    " for inputs_batch, labels_batch in generator:\n",
    "   features_batch = conv_base.predict(inputs_batch)\n",
    "   features[i * batch_size : (i + 1) * batch_size] = features_batch\n",
    "   labels[i * batch_size : (i + 1) * batch_size] = labels_batch\n",
    "   i += 1\n",
    "   if i * batch_size >= sample_count:\n",
    "     break\n",
    " return features, labels\n"
   ]
  },
  {
   "cell_type": "code",
   "execution_count": 17,
   "metadata": {},
   "outputs": [
    {
     "name": "stdout",
     "output_type": "stream",
     "text": [
      "Found 17562 images belonging to 5 classes.\n",
      "Found 8780 images belonging to 5 classes.\n",
      "Found 8774 images belonging to 5 classes.\n"
     ]
    }
   ],
   "source": [
    "from PIL import ImageFile\n",
    "ImageFile.LOAD_TRUNCATED_IMAGES = True\n",
    "train_features, train_labels = extract_features(train_dir, 17562)\n",
    "validation_features, validation_labels = extract_features(validation_dir, 8780)\n",
    "test_features, test_labels = extract_features(test_dir, 8774)\n",
    "\n",
    "#--- 22h 35min "
   ]
  },
  {
   "cell_type": "code",
   "execution_count": 21,
   "metadata": {},
   "outputs": [],
   "source": [
    "\n",
    "train_features = np.reshape(train_features, (17562, 4 * 4 * 512))\n",
    "validation_features = np.reshape(validation_features, (8780, 4 * 4 * 512))\n",
    "test_features = np.reshape(test_features, (8774, 4 * 4 * 512))"
   ]
  },
  {
   "cell_type": "code",
   "execution_count": 23,
   "metadata": {},
   "outputs": [
    {
     "name": "stdout",
     "output_type": "stream",
     "text": [
      "Train on 17562 samples, validate on 8780 samples\n",
      "Epoch 1/40\n",
      "17562/17562 [==============================] - 21s 1ms/step - loss: 0.9177 - acc: 0.7280 - val_loss: 0.8579 - val_acc: 0.7349\n",
      "Epoch 2/40\n",
      "17562/17562 [==============================] - 21s 1ms/step - loss: 0.8783 - acc: 0.7348 - val_loss: 0.8580 - val_acc: 0.7349\n",
      "Epoch 3/40\n",
      "17562/17562 [==============================] - 21s 1ms/step - loss: 0.8749 - acc: 0.7348 - val_loss: 0.8553 - val_acc: 0.7349\n",
      "Epoch 4/40\n",
      "17562/17562 [==============================] - 21s 1ms/step - loss: 0.8688 - acc: 0.7348 - val_loss: 0.8582 - val_acc: 0.7349\n",
      "Epoch 5/40\n",
      "17562/17562 [==============================] - 21s 1ms/step - loss: 0.8636 - acc: 0.7348 - val_loss: 0.8570 - val_acc: 0.7349\n",
      "Epoch 6/40\n",
      "17562/17562 [==============================] - 21s 1ms/step - loss: 0.8625 - acc: 0.7348 - val_loss: 0.8650 - val_acc: 0.7349\n",
      "Epoch 7/40\n",
      "17562/17562 [==============================] - 21s 1ms/step - loss: 0.8623 - acc: 0.7348 - val_loss: 0.8598 - val_acc: 0.7350\n",
      "Epoch 8/40\n",
      "17562/17562 [==============================] - 23s 1ms/step - loss: 0.8608 - acc: 0.7349 - val_loss: 0.8656 - val_acc: 0.7349\n",
      "Epoch 9/40\n",
      "17562/17562 [==============================] - 24s 1ms/step - loss: 0.8588 - acc: 0.7348 - val_loss: 0.8591 - val_acc: 0.7350\n",
      "Epoch 10/40\n",
      "17562/17562 [==============================] - 22s 1ms/step - loss: 0.8589 - acc: 0.7348 - val_loss: 0.8759 - val_acc: 0.7349\n",
      "Epoch 11/40\n",
      "17562/17562 [==============================] - 21s 1ms/step - loss: 0.8563 - acc: 0.7349 - val_loss: 0.8628 - val_acc: 0.7350\n",
      "Epoch 12/40\n",
      "17562/17562 [==============================] - 21s 1ms/step - loss: 0.8585 - acc: 0.7348 - val_loss: 0.8675 - val_acc: 0.7350\n",
      "Epoch 13/40\n",
      "17562/17562 [==============================] - 21s 1ms/step - loss: 0.8537 - acc: 0.7350 - val_loss: 0.8635 - val_acc: 0.7350\n",
      "Epoch 14/40\n",
      "17562/17562 [==============================] - 21s 1ms/step - loss: 0.8548 - acc: 0.7348 - val_loss: 0.8669 - val_acc: 0.7350\n",
      "Epoch 15/40\n",
      "17562/17562 [==============================] - 21s 1ms/step - loss: 0.8509 - acc: 0.7349 - val_loss: 0.8648 - val_acc: 0.7350\n",
      "Epoch 16/40\n",
      "17562/17562 [==============================] - 21s 1ms/step - loss: 0.8578 - acc: 0.7348 - val_loss: 0.8638 - val_acc: 0.7350\n",
      "Epoch 17/40\n",
      "17562/17562 [==============================] - 21s 1ms/step - loss: 0.8532 - acc: 0.7348 - val_loss: 0.8697 - val_acc: 0.7350\n",
      "Epoch 18/40\n",
      "17562/17562 [==============================] - 21s 1ms/step - loss: 0.8543 - acc: 0.7351 - val_loss: 0.8658 - val_acc: 0.7350\n",
      "Epoch 19/40\n",
      "17562/17562 [==============================] - 22s 1ms/step - loss: 0.8512 - acc: 0.7348 - val_loss: 0.8684 - val_acc: 0.7350\n",
      "Epoch 20/40\n",
      "17562/17562 [==============================] - 21s 1ms/step - loss: 0.8499 - acc: 0.7350 - val_loss: 0.8776 - val_acc: 0.7349\n",
      "Epoch 21/40\n",
      "17562/17562 [==============================] - 21s 1ms/step - loss: 0.8515 - acc: 0.7349 - val_loss: 0.8668 - val_acc: 0.7350\n",
      "Epoch 22/40\n",
      "17562/17562 [==============================] - 21s 1ms/step - loss: 0.8441 - acc: 0.7348 - val_loss: 0.8695 - val_acc: 0.7350\n",
      "Epoch 23/40\n",
      "17562/17562 [==============================] - 21s 1ms/step - loss: 0.8500 - acc: 0.7347 - val_loss: 0.8766 - val_acc: 0.7349\n",
      "Epoch 24/40\n",
      "17562/17562 [==============================] - 21s 1ms/step - loss: 0.8496 - acc: 0.7347 - val_loss: 0.8687 - val_acc: 0.7350\n",
      "Epoch 25/40\n",
      "17562/17562 [==============================] - 21s 1ms/step - loss: 0.8446 - acc: 0.7352 - val_loss: 0.8790 - val_acc: 0.7349\n",
      "Epoch 26/40\n",
      "17562/17562 [==============================] - 21s 1ms/step - loss: 0.8458 - acc: 0.7347 - val_loss: 0.8725 - val_acc: 0.7350\n",
      "Epoch 27/40\n",
      "17562/17562 [==============================] - 21s 1ms/step - loss: 0.8472 - acc: 0.7344 - val_loss: 0.8673 - val_acc: 0.7352\n",
      "Epoch 28/40\n",
      "17562/17562 [==============================] - 21s 1ms/step - loss: 0.8466 - acc: 0.7345 - val_loss: 0.8819 - val_acc: 0.7350\n",
      "Epoch 29/40\n",
      "17562/17562 [==============================] - 21s 1ms/step - loss: 0.8440 - acc: 0.7354 - val_loss: 0.8692 - val_acc: 0.7351\n",
      "Epoch 30/40\n",
      "17562/17562 [==============================] - 21s 1ms/step - loss: 0.8455 - acc: 0.7350 - val_loss: 0.8680 - val_acc: 0.7350\n",
      "Epoch 31/40\n",
      "17562/17562 [==============================] - 21s 1ms/step - loss: 0.8412 - acc: 0.7349 - val_loss: 0.8735 - val_acc: 0.7347\n",
      "Epoch 32/40\n",
      "17562/17562 [==============================] - 21s 1ms/step - loss: 0.8433 - acc: 0.7349 - val_loss: 0.8798 - val_acc: 0.7350\n",
      "Epoch 33/40\n",
      "17562/17562 [==============================] - 22s 1ms/step - loss: 0.8435 - acc: 0.7349 - val_loss: 0.8699 - val_acc: 0.7350\n",
      "Epoch 34/40\n",
      "17562/17562 [==============================] - 21s 1ms/step - loss: 0.8413 - acc: 0.7358 - val_loss: 0.8716 - val_acc: 0.7344\n",
      "Epoch 35/40\n",
      "17562/17562 [==============================] - 22s 1ms/step - loss: 0.8458 - acc: 0.7349 - val_loss: 0.8724 - val_acc: 0.7353\n",
      "Epoch 36/40\n",
      "17562/17562 [==============================] - 22s 1ms/step - loss: 0.8386 - acc: 0.7355 - val_loss: 0.8714 - val_acc: 0.7347\n",
      "Epoch 37/40\n",
      "17562/17562 [==============================] - 21s 1ms/step - loss: 0.8400 - acc: 0.7356 - val_loss: 0.8695 - val_acc: 0.7347\n",
      "Epoch 38/40\n",
      "17562/17562 [==============================] - 21s 1ms/step - loss: 0.8387 - acc: 0.7359 - val_loss: 0.8722 - val_acc: 0.7351\n",
      "Epoch 39/40\n",
      "17562/17562 [==============================] - 21s 1ms/step - loss: 0.8381 - acc: 0.7351 - val_loss: 0.8701 - val_acc: 0.7354\n",
      "Epoch 40/40\n",
      "17562/17562 [==============================] - 22s 1ms/step - loss: 0.8419 - acc: 0.7352 - val_loss: 0.8757 - val_acc: 0.7349\n"
     ]
    }
   ],
   "source": [
    "from keras import models\n",
    "from keras import layers\n",
    "from keras import optimizers\n",
    "\n",
    "model = models.Sequential()\n",
    "model.add(layers.Dense(256, activation='relu', input_dim=4 * 4 * 512))\n",
    "model.add(layers.Dropout(0.5))\n",
    "model.add(layers.Dense(5, activation='softmax'))\n",
    "\n",
    "model.compile(optimizer=optimizers.RMSprop(lr=2e-5),\n",
    "loss='categorical_crossentropy',\n",
    "metrics=['acc'])\n",
    "\n",
    "history = model.fit(train_features, train_labels,\n",
    "epochs=40,\n",
    "batch_size=20,\n",
    "validation_data=(validation_features, validation_labels))\n"
   ]
  },
  {
   "cell_type": "code",
   "execution_count": 25,
   "metadata": {},
   "outputs": [
    {
     "data": {
      "image/png": "[encoded data removed]",
      "text/plain": [
       "<Figure size 432x288 with 1 Axes>"
      ]
     },
     "metadata": {},
     "output_type": "display_data"
    },
    {
     "data": {
      "image/png": "[encoded data removed]",
      "text/plain": [
       "<Figure size 432x288 with 1 Axes>"
      ]
     },
     "metadata": {},
     "output_type": "display_data"
    }
   ],
   "source": [
    "import matplotlib.pyplot as plt\n",
    "acc = history.history['acc']\n",
    "val_acc = history.history['val_acc']\n",
    "loss = history.history['loss']\n",
    "val_loss = history.history['val_loss']\n",
    "epochs = range(1, len(acc) + 1)\n",
    "plt.plot(epochs, acc, 'bo', label='Training acc')\n",
    "plt.plot(epochs, val_acc, 'b', label='Validation acc')\n",
    "plt.title('Training and validation accuracy')\n",
    "plt.legend()\n",
    "plt.figure()\n",
    "plt.plot(epochs, loss, 'bo', label='Training loss')\n",
    "plt.plot(epochs, val_loss, 'b', label='Validation loss')\n",
    "plt.title('Training and validation loss')\n",
    "plt.legend()\n",
    "plt.show()"
   ]
  },
  {
   "cell_type": "markdown",
   "metadata": {},
   "source": [
    "### FEATURE EXTRACTION WITH DATA AUGMENTATION"
   ]
  },
  {
   "cell_type": "code",
   "execution_count": 26,
   "metadata": {},
   "outputs": [],
   "source": [
    "from keras import models\n",
    "from keras import layers\n",
    "model = models.Sequential()\n",
    "model.add(conv_base)\n",
    "model.add(layers.Flatten())\n",
    "model.add(layers.Dense(256, activation='relu'))\n",
    "model.add(layers.Dense(5, activation='softmax'))"
   ]
  },
  {
   "cell_type": "code",
   "execution_count": 27,
   "metadata": {},
   "outputs": [
    {
     "name": "stdout",
     "output_type": "stream",
     "text": [
      "Found 17562 images belonging to 5 classes.\n",
      "Found 8780 images belonging to 5 classes.\n",
      "Epoch 1/10\n",
      "10/10 [==============================] - 48s 5s/step - loss: 0.9849 - acc: 0.7350 - val_loss: 0.8000 - val_acc: 0.7400\n",
      "Epoch 2/10\n",
      "10/10 [==============================] - 30s 3s/step - loss: 0.8360 - acc: 0.7550 - val_loss: 0.7630 - val_acc: 0.7400\n",
      "Epoch 3/10\n",
      "10/10 [==============================] - 31s 3s/step - loss: 0.9369 - acc: 0.7200 - val_loss: 0.7863 - val_acc: 0.7400\n",
      "Epoch 4/10\n",
      "10/10 [==============================] - 31s 3s/step - loss: 0.8352 - acc: 0.7350 - val_loss: 0.8242 - val_acc: 0.7400\n",
      "Epoch 5/10\n",
      "10/10 [==============================] - 31s 3s/step - loss: 0.9536 - acc: 0.7050 - val_loss: 0.7822 - val_acc: 0.7400\n",
      "Epoch 6/10\n",
      "10/10 [==============================] - 31s 3s/step - loss: 0.7686 - acc: 0.7750 - val_loss: 0.8224 - val_acc: 0.7400\n",
      "Epoch 7/10\n",
      "10/10 [==============================] - 31s 3s/step - loss: 0.9146 - acc: 0.7200 - val_loss: 0.8039 - val_acc: 0.7400\n",
      "Epoch 8/10\n",
      "10/10 [==============================] - 31s 3s/step - loss: 0.8802 - acc: 0.7500 - val_loss: 0.8098 - val_acc: 0.7400\n",
      "Epoch 9/10\n",
      "10/10 [==============================] - 31s 3s/step - loss: 0.9801 - acc: 0.7100 - val_loss: 0.8042 - val_acc: 0.7400\n",
      "Epoch 10/10\n",
      "10/10 [==============================] - 33s 3s/step - loss: 0.8904 - acc: 0.7350 - val_loss: 0.8149 - val_acc: 0.7400\n"
     ]
    },
    {
     "data": {
      "text/plain": [
       "datetime.datetime(2018, 7, 19, 1, 24, 3, 668582)"
      ]
     },
     "execution_count": 27,
     "metadata": {},
     "output_type": "execute_result"
    }
   ],
   "source": [
    "\n",
    "import datetime \n",
    "from keras.preprocessing.image import ImageDataGenerator\n",
    "from keras import optimizers\n",
    "\n",
    "datetime.datetime.now()\n",
    "train_datagen = ImageDataGenerator(\n",
    "rescale=1./255,\n",
    "rotation_range=40,\n",
    "width_shift_range=0.2,\n",
    "height_shift_range=0.2,\n",
    "shear_range=0.2,\n",
    "zoom_range=0.2,\n",
    "horizontal_flip=True,\n",
    "fill_mode='nearest')\n",
    "\n",
    "datetime.datetime.now()\n",
    "test_datagen = ImageDataGenerator(rescale=1./255)\n",
    "train_generator = train_datagen.flow_from_directory(\n",
    "train_dir,\n",
    "target_size=(150, 150),\n",
    "batch_size=20,\n",
    "class_mode='categorical')\n",
    "\n",
    "datetime.datetime.now()\n",
    "validation_generator = test_datagen.flow_from_directory(\n",
    "validation_dir,\n",
    "target_size=(150, 150),\n",
    "batch_size=20,\n",
    "class_mode='categorical')\n",
    "\n",
    "datetime.datetime.now()\n",
    "model.compile(loss='categorical_crossentropy',\n",
    "optimizer=optimizers.RMSprop(lr=2e-5),\n",
    "metrics=['acc'])\n",
    "\n",
    "\n",
    "datetime.datetime.now()\n",
    "history = model.fit_generator(\n",
    "train_generator,\n",
    "steps_per_epoch=10,\n",
    "epochs=10,\n",
    "validation_data=validation_generator,\n",
    "validation_steps=5)\n",
    "\n",
    "datetime.datetime.now()"
   ]
  },
  {
   "cell_type": "markdown",
   "metadata": {},
   "source": [
    "### DenseNet121"
   ]
  },
  {
   "cell_type": "code",
   "execution_count": 29,
   "metadata": {},
   "outputs": [],
   "source": [
    "from keras.applications import DenseNet121\n",
    "conv_base = DenseNet121(weights='imagenet',\n",
    "include_top=False,\n",
    "input_shape=( 221, 221, 3))"
   ]
  },
  {
   "cell_type": "code",
   "execution_count": 30,
   "metadata": {},
   "outputs": [],
   "source": [
    "import os\n",
    "import numpy as np\n",
    "from keras.preprocessing.image import ImageDataGenerator\n",
    "base_dir = 'C:\\\\Ryerson Courses\\\\MRP Project\\\\Kaggle Diabetic Retinopathy data\\\\train data\\\\train_all'\n",
    "train_dir = os.path.join(base_dir, 'train')\n",
    "validation_dir = os.path.join(base_dir, 'validation')\n",
    "test_dir = os.path.join(base_dir, 'test')\n",
    "datagen = ImageDataGenerator(rescale=1./255)\n",
    "batch_size = 20\n"
   ]
  },
  {
   "cell_type": "code",
   "execution_count": 33,
   "metadata": {},
   "outputs": [],
   "source": [
    "def extract_features(directory, sample_count):\n",
    " features = np.zeros(shape=(sample_count, 7, 7, 1024))\n",
    " labels = np.zeros(shape=(sample_count , 5))\n",
    " generator = datagen.flow_from_directory(\n",
    "   directory,\n",
    "   target_size=(221, 221 ),\n",
    "   batch_size=batch_size,\n",
    "   class_mode='categorical')\n",
    " i = 0\n",
    " for inputs_batch, labels_batch in generator:\n",
    "   features_batch = conv_base.predict(inputs_batch)\n",
    "   features[i * batch_size : (i + 1) * batch_size] = features_batch\n",
    "   labels[i * batch_size : (i + 1) * batch_size] = labels_batch\n",
    "   i += 1\n",
    "   if i * batch_size >= sample_count:\n",
    "     break\n",
    " return features, labels"
   ]
  },
  {
   "cell_type": "code",
   "execution_count": 34,
   "metadata": {},
   "outputs": [
    {
     "name": "stdout",
     "output_type": "stream",
     "text": [
      "Before train_features step 2018-07-19 01:33:03.507606\n",
      "Found 17562 images belonging to 5 classes.\n",
      "Before validation_features step 2018-07-19 02:26:32.956868\n",
      "Found 8780 images belonging to 5 classes.\n",
      "Before test_features step 2018-07-19 02:53:51.775509\n",
      "Found 8774 images belonging to 5 classes.\n",
      "End test_features step 2018-07-19 03:21:32.126513\n"
     ]
    }
   ],
   "source": [
    "print(\"Before train_features step\" , datetime.datetime.now())\n",
    "train_features, train_labels = extract_features(train_dir, 17562)\n",
    "\n",
    "print(\"Before validation_features step\" , datetime.datetime.now())\n",
    "validation_features, validation_labels = extract_features(validation_dir, 8780)\n",
    "\n",
    "print(\"Before test_features step\" , datetime.datetime.now())\n",
    "test_features, test_labels = extract_features(test_dir, 8774)\n",
    "print(\"End test_features step\" , datetime.datetime.now())"
   ]
  },
  {
   "cell_type": "code",
   "execution_count": 35,
   "metadata": {},
   "outputs": [],
   "source": [
    "\n",
    "train_features = np.reshape(train_features, (17562, 7 * 7 * 1024))\n",
    "validation_features = np.reshape(validation_features, (8780, 7 * 7 * 1024))\n",
    "test_features = np.reshape(test_features, (8774, 7 * 7 *  1024))"
   ]
  },
  {
   "cell_type": "code",
   "execution_count": 37,
   "metadata": {},
   "outputs": [
    {
     "name": "stdout",
     "output_type": "stream",
     "text": [
      "Train on 17562 samples, validate on 8780 samples\n",
      "Epoch 1/100\n",
      "17562/17562 [==============================] - 114s 7ms/step - loss: 0.9450 - acc: 0.7192 - val_loss: 1.0388 - val_acc: 0.7350\n",
      "Epoch 2/100\n",
      "17562/17562 [==============================] - 110s 6ms/step - loss: 0.8635 - acc: 0.7323 - val_loss: 0.8835 - val_acc: 0.7353\n",
      "Epoch 3/100\n",
      "17562/17562 [==============================] - 109s 6ms/step - loss: 0.8412 - acc: 0.7347 - val_loss: 0.8333 - val_acc: 0.7378\n",
      "Epoch 4/100\n",
      "17562/17562 [==============================] - 110s 6ms/step - loss: 0.8146 - acc: 0.7359 - val_loss: 0.8180 - val_acc: 0.7367\n",
      "Epoch 5/100\n",
      "17562/17562 [==============================] - 111s 6ms/step - loss: 0.8046 - acc: 0.7389 - val_loss: 0.8758 - val_acc: 0.7386\n",
      "Epoch 6/100\n",
      "17562/17562 [==============================] - 109s 6ms/step - loss: 0.7896 - acc: 0.7403 - val_loss: 0.8835 - val_acc: 0.7382\n",
      "Epoch 7/100\n",
      "17562/17562 [==============================] - 109s 6ms/step - loss: 0.7759 - acc: 0.7459 - val_loss: 0.8255 - val_acc: 0.7410\n",
      "Epoch 8/100\n",
      "17562/17562 [==============================] - 110s 6ms/step - loss: 0.7674 - acc: 0.7449 - val_loss: 0.9445 - val_acc: 0.7397\n",
      "Epoch 9/100\n",
      "17562/17562 [==============================] - 108s 6ms/step - loss: 0.7579 - acc: 0.7479 - val_loss: 0.9262 - val_acc: 0.7397\n",
      "Epoch 10/100\n",
      "17562/17562 [==============================] - 108s 6ms/step - loss: 0.7492 - acc: 0.7479 - val_loss: 0.8672 - val_acc: 0.7314\n",
      "Epoch 11/100\n",
      "17562/17562 [==============================] - 108s 6ms/step - loss: 0.7321 - acc: 0.7519 - val_loss: 0.8588 - val_acc: 0.7336\n",
      "Epoch 12/100\n",
      "17562/17562 [==============================] - 108s 6ms/step - loss: 0.7215 - acc: 0.7543 - val_loss: 0.9084 - val_acc: 0.7402\n",
      "Epoch 13/100\n",
      "17562/17562 [==============================] - 108s 6ms/step - loss: 0.7125 - acc: 0.7599 - val_loss: 0.9477 - val_acc: 0.7411\n",
      "Epoch 14/100\n",
      "17562/17562 [==============================] - 108s 6ms/step - loss: 0.6963 - acc: 0.7592 - val_loss: 0.9096 - val_acc: 0.7425\n",
      "Epoch 15/100\n",
      "17562/17562 [==============================] - 108s 6ms/step - loss: 0.6818 - acc: 0.7599 - val_loss: 0.8925 - val_acc: 0.7313\n",
      "Epoch 16/100\n",
      "17562/17562 [==============================] - 108s 6ms/step - loss: 0.6752 - acc: 0.7658 - val_loss: 0.9139 - val_acc: 0.7367\n",
      "Epoch 17/100\n",
      "17562/17562 [==============================] - 108s 6ms/step - loss: 0.6684 - acc: 0.7680 - val_loss: 0.9469 - val_acc: 0.7388\n",
      "Epoch 18/100\n",
      "17562/17562 [==============================] - 108s 6ms/step - loss: 0.6531 - acc: 0.7710 - val_loss: 0.9776 - val_acc: 0.7412\n",
      "Epoch 19/100\n",
      "17562/17562 [==============================] - 108s 6ms/step - loss: 0.6498 - acc: 0.7712 - val_loss: 0.9452 - val_acc: 0.7261\n",
      "Epoch 20/100\n",
      "17562/17562 [==============================] - 108s 6ms/step - loss: 0.6364 - acc: 0.7741 - val_loss: 0.9896 - val_acc: 0.7387\n",
      "Epoch 21/100\n",
      "17562/17562 [==============================] - 108s 6ms/step - loss: 0.6228 - acc: 0.7742 - val_loss: 0.9298 - val_acc: 0.7295\n",
      "Epoch 22/100\n",
      "17562/17562 [==============================] - 107s 6ms/step - loss: 0.6153 - acc: 0.7824 - val_loss: 0.9814 - val_acc: 0.7295\n",
      "Epoch 23/100\n",
      "17562/17562 [==============================] - 107s 6ms/step - loss: 0.5998 - acc: 0.7886 - val_loss: 1.0368 - val_acc: 0.7380\n",
      "Epoch 24/100\n",
      "17562/17562 [==============================] - 107s 6ms/step - loss: 0.5954 - acc: 0.7893 - val_loss: 1.0361 - val_acc: 0.7418\n",
      "Epoch 25/100\n",
      "17562/17562 [==============================] - 108s 6ms/step - loss: 0.5744 - acc: 0.7928 - val_loss: 1.0106 - val_acc: 0.7386\n",
      "Epoch 26/100\n",
      "17562/17562 [==============================] - 107s 6ms/step - loss: 0.5714 - acc: 0.7909 - val_loss: 1.0297 - val_acc: 0.7360\n",
      "Epoch 27/100\n",
      "17562/17562 [==============================] - 108s 6ms/step - loss: 0.5637 - acc: 0.7959 - val_loss: 1.0284 - val_acc: 0.7376\n",
      "Epoch 28/100\n",
      "17562/17562 [==============================] - 108s 6ms/step - loss: 0.5503 - acc: 0.8019 - val_loss: 1.0838 - val_acc: 0.7341\n",
      "Epoch 29/100\n",
      "17562/17562 [==============================] - 108s 6ms/step - loss: 0.5398 - acc: 0.8057 - val_loss: 1.0003 - val_acc: 0.7109\n",
      "Epoch 30/100\n",
      "17562/17562 [==============================] - 108s 6ms/step - loss: 0.5341 - acc: 0.8041 - val_loss: 1.0384 - val_acc: 0.7335\n",
      "Epoch 31/100\n",
      "17562/17562 [==============================] - 108s 6ms/step - loss: 0.5253 - acc: 0.8060 - val_loss: 1.0560 - val_acc: 0.7125\n",
      "Epoch 32/100\n",
      "17562/17562 [==============================] - 108s 6ms/step - loss: 0.5109 - acc: 0.8118 - val_loss: 1.0645 - val_acc: 0.7156\n",
      "Epoch 33/100\n",
      "17562/17562 [==============================] - 108s 6ms/step - loss: 0.5117 - acc: 0.8146 - val_loss: 1.0138 - val_acc: 0.7188\n",
      "Epoch 34/100\n",
      "17562/17562 [==============================] - 108s 6ms/step - loss: 0.4967 - acc: 0.8183 - val_loss: 1.0840 - val_acc: 0.7293\n",
      "Epoch 35/100\n",
      "17562/17562 [==============================] - 108s 6ms/step - loss: 0.4916 - acc: 0.8199 - val_loss: 1.1174 - val_acc: 0.7379\n",
      "Epoch 36/100\n",
      "17562/17562 [==============================] - 108s 6ms/step - loss: 0.4816 - acc: 0.8233 - val_loss: 1.1536 - val_acc: 0.7305\n",
      "Epoch 37/100\n",
      "17562/17562 [==============================] - 108s 6ms/step - loss: 0.4699 - acc: 0.8262 - val_loss: 1.1465 - val_acc: 0.7334\n",
      "Epoch 38/100\n",
      "17562/17562 [==============================] - 108s 6ms/step - loss: 0.4601 - acc: 0.8306 - val_loss: 1.1852 - val_acc: 0.7416\n",
      "Epoch 39/100\n",
      "17562/17562 [==============================] - 108s 6ms/step - loss: 0.4562 - acc: 0.8363 - val_loss: 1.1420 - val_acc: 0.7296\n",
      "Epoch 40/100\n",
      "17562/17562 [==============================] - 108s 6ms/step - loss: 0.4479 - acc: 0.8369 - val_loss: 1.1261 - val_acc: 0.7192\n",
      "Epoch 41/100\n",
      "17562/17562 [==============================] - 108s 6ms/step - loss: 0.4399 - acc: 0.8410 - val_loss: 1.1637 - val_acc: 0.7282\n",
      "Epoch 42/100\n",
      "17562/17562 [==============================] - 107s 6ms/step - loss: 0.4327 - acc: 0.8395 - val_loss: 1.1677 - val_acc: 0.7108\n",
      "Epoch 43/100\n",
      "17562/17562 [==============================] - 108s 6ms/step - loss: 0.4236 - acc: 0.8439 - val_loss: 1.1771 - val_acc: 0.7267\n",
      "Epoch 44/100\n",
      "17562/17562 [==============================] - 107s 6ms/step - loss: 0.4172 - acc: 0.8485 - val_loss: 1.1960 - val_acc: 0.7284\n",
      "Epoch 45/100\n",
      "17562/17562 [==============================] - 108s 6ms/step - loss: 0.4171 - acc: 0.8448 - val_loss: 1.2278 - val_acc: 0.7302\n",
      "Epoch 46/100\n",
      "17562/17562 [==============================] - 108s 6ms/step - loss: 0.4080 - acc: 0.8510 - val_loss: 1.2511 - val_acc: 0.7204\n",
      "Epoch 47/100\n",
      "17562/17562 [==============================] - 108s 6ms/step - loss: 0.3982 - acc: 0.8531 - val_loss: 1.2532 - val_acc: 0.7287\n",
      "Epoch 48/100\n",
      "17562/17562 [==============================] - 108s 6ms/step - loss: 0.3879 - acc: 0.8584 - val_loss: 1.2801 - val_acc: 0.7207\n",
      "Epoch 49/100\n",
      "17562/17562 [==============================] - 108s 6ms/step - loss: 0.3789 - acc: 0.8582 - val_loss: 1.2522 - val_acc: 0.6965\n",
      "Epoch 50/100\n",
      "17562/17562 [==============================] - 108s 6ms/step - loss: 0.3749 - acc: 0.8632 - val_loss: 1.2825 - val_acc: 0.7246\n",
      "Epoch 51/100\n",
      "17562/17562 [==============================] - 108s 6ms/step - loss: 0.3695 - acc: 0.8631 - val_loss: 1.2592 - val_acc: 0.7278\n",
      "Epoch 52/100\n",
      "17562/17562 [==============================] - 108s 6ms/step - loss: 0.3629 - acc: 0.8647 - val_loss: 1.2326 - val_acc: 0.7277\n",
      "Epoch 53/100\n",
      "17562/17562 [==============================] - 108s 6ms/step - loss: 0.3534 - acc: 0.8694 - val_loss: 1.3426 - val_acc: 0.7191\n",
      "Epoch 54/100\n",
      "17562/17562 [==============================] - 108s 6ms/step - loss: 0.3518 - acc: 0.8700 - val_loss: 1.3323 - val_acc: 0.7309\n",
      "Epoch 55/100\n",
      "17562/17562 [==============================] - 108s 6ms/step - loss: 0.3481 - acc: 0.8728 - val_loss: 1.3127 - val_acc: 0.7203\n",
      "Epoch 56/100\n",
      "17562/17562 [==============================] - 107s 6ms/step - loss: 0.3422 - acc: 0.8755 - val_loss: 1.3504 - val_acc: 0.6928\n",
      "Epoch 57/100\n",
      "17562/17562 [==============================] - 108s 6ms/step - loss: 0.3330 - acc: 0.8786 - val_loss: 1.4212 - val_acc: 0.7302\n",
      "Epoch 58/100\n",
      "17562/17562 [==============================] - 107s 6ms/step - loss: 0.3299 - acc: 0.8809 - val_loss: 1.3464 - val_acc: 0.7256\n",
      "Epoch 59/100\n",
      "17562/17562 [==============================] - ETA: 8s - loss: 0.3251 - acc: 0.8764  - 79032s 5s/step - loss: 0.3251 - acc: 0.8764 - val_loss: 1.3627 - val_acc: 0.7251\n",
      "Epoch 60/100\n",
      "   40/17562 [..............................] - ETA: 40:03 - loss: 0.1735 - acc: 0.9500  "
     ]
    },
    {
     "name": "stderr",
     "output_type": "stream",
     "text": [
      "C:\\Users\\beqaj\\Anaconda2\\envs\\keras\\lib\\site-packages\\keras\\callbacks.py:120: UserWarning: Method on_batch_end() is slow compared to the batch update (0.215620). Check your callbacks.\n",
      "  % delta_t_median)\n"
     ]
    },
    {
     "name": "stdout",
     "output_type": "stream",
     "text": [
      "17562/17562 [==============================] - 153s 9ms/step - loss: 0.3188 - acc: 0.8830 - val_loss: 1.4807 - val_acc: 0.7272\n",
      "Epoch 61/100\n",
      "17562/17562 [==============================] - 108s 6ms/step - loss: 0.3164 - acc: 0.8844 - val_loss: 1.3259 - val_acc: 0.6933\n",
      "Epoch 62/100\n",
      "17562/17562 [==============================] - 109s 6ms/step - loss: 0.3120 - acc: 0.8833 - val_loss: 1.4244 - val_acc: 0.6890\n",
      "Epoch 63/100\n",
      "17562/17562 [==============================] - 109s 6ms/step - loss: 0.3075 - acc: 0.8845 - val_loss: 1.4765 - val_acc: 0.7280\n",
      "Epoch 64/100\n",
      "17562/17562 [==============================] - 109s 6ms/step - loss: 0.2976 - acc: 0.8883 - val_loss: 1.4052 - val_acc: 0.7091\n",
      "Epoch 65/100\n",
      "17562/17562 [==============================] - 109s 6ms/step - loss: 0.2931 - acc: 0.8936 - val_loss: 1.4946 - val_acc: 0.7260\n",
      "Epoch 66/100\n",
      "17562/17562 [==============================] - 108s 6ms/step - loss: 0.2943 - acc: 0.8895 - val_loss: 1.4763 - val_acc: 0.7229\n",
      "Epoch 67/100\n",
      "17562/17562 [==============================] - 108s 6ms/step - loss: 0.2801 - acc: 0.8949 - val_loss: 1.4865 - val_acc: 0.7049\n",
      "Epoch 68/100\n",
      "17562/17562 [==============================] - 108s 6ms/step - loss: 0.2812 - acc: 0.8971 - val_loss: 1.4774 - val_acc: 0.7181\n",
      "Epoch 69/100\n",
      "17562/17562 [==============================] - 108s 6ms/step - loss: 0.2850 - acc: 0.8965 - val_loss: 1.4667 - val_acc: 0.7185\n",
      "Epoch 70/100\n",
      "17562/17562 [==============================] - 108s 6ms/step - loss: 0.2725 - acc: 0.9001 - val_loss: 1.5034 - val_acc: 0.7133\n",
      "Epoch 71/100\n",
      "17562/17562 [==============================] - 62436s 4s/step - loss: 0.2660 - acc: 0.9024 - val_loss: 1.4407 - val_acc: 0.6970\n",
      "Epoch 72/100\n",
      "17562/17562 [==============================] - 110s 6ms/step - loss: 0.2698 - acc: 0.9018 - val_loss: 1.5313 - val_acc: 0.7232\n",
      "Epoch 73/100\n",
      "17562/17562 [==============================] - 110s 6ms/step - loss: 0.2595 - acc: 0.9052 - val_loss: 1.5033 - val_acc: 0.7155\n",
      "Epoch 74/100\n",
      "17562/17562 [==============================] - 110s 6ms/step - loss: 0.2543 - acc: 0.9064 - val_loss: 1.5131 - val_acc: 0.7095\n",
      "Epoch 75/100\n",
      "17562/17562 [==============================] - 109s 6ms/step - loss: 0.2546 - acc: 0.9080 - val_loss: 1.5580 - val_acc: 0.7203\n",
      "Epoch 76/100\n",
      "17562/17562 [==============================] - 109s 6ms/step - loss: 0.2508 - acc: 0.9085 - val_loss: 1.6093 - val_acc: 0.7286\n",
      "Epoch 77/100\n",
      "17562/17562 [==============================] - 108s 6ms/step - loss: 0.2416 - acc: 0.9111 - val_loss: 1.5875 - val_acc: 0.7195\n",
      "Epoch 78/100\n",
      "17562/17562 [==============================] - 108s 6ms/step - loss: 0.2420 - acc: 0.9103 - val_loss: 1.5629 - val_acc: 0.7080\n",
      "Epoch 79/100\n",
      "17562/17562 [==============================] - 108s 6ms/step - loss: 0.2397 - acc: 0.9118 - val_loss: 1.6467 - val_acc: 0.7207\n",
      "Epoch 80/100\n",
      "17562/17562 [==============================] - 109s 6ms/step - loss: 0.2347 - acc: 0.9147 - val_loss: 1.6106 - val_acc: 0.7206\n",
      "Epoch 81/100\n",
      "17562/17562 [==============================] - 110s 6ms/step - loss: 0.2352 - acc: 0.9133 - val_loss: 1.6233 - val_acc: 0.7205\n",
      "Epoch 82/100\n",
      "17562/17562 [==============================] - 109s 6ms/step - loss: 0.2258 - acc: 0.9185 - val_loss: 1.6576 - val_acc: 0.7232\n",
      "Epoch 83/100\n",
      "17562/17562 [==============================] - 110s 6ms/step - loss: 0.2323 - acc: 0.9152 - val_loss: 1.6364 - val_acc: 0.7107\n",
      "Epoch 84/100\n",
      "17562/17562 [==============================] - 109s 6ms/step - loss: 0.2214 - acc: 0.9201 - val_loss: 1.6677 - val_acc: 0.7227\n",
      "Epoch 85/100\n",
      "17562/17562 [==============================] - 110s 6ms/step - loss: 0.2216 - acc: 0.9202 - val_loss: 1.6603 - val_acc: 0.7009\n",
      "Epoch 86/100\n",
      "17562/17562 [==============================] - 108s 6ms/step - loss: 0.2181 - acc: 0.9203 - val_loss: 1.6449 - val_acc: 0.7067\n",
      "Epoch 87/100\n",
      "17562/17562 [==============================] - 108s 6ms/step - loss: 0.2159 - acc: 0.9219 - val_loss: 1.7083 - val_acc: 0.7238\n",
      "Epoch 88/100\n",
      "17562/17562 [==============================] - 108s 6ms/step - loss: 0.2154 - acc: 0.9235 - val_loss: 1.6784 - val_acc: 0.7161\n",
      "Epoch 89/100\n",
      "17562/17562 [==============================] - 108s 6ms/step - loss: 0.2045 - acc: 0.9261 - val_loss: 1.7851 - val_acc: 0.7257\n",
      "Epoch 90/100\n",
      "17562/17562 [==============================] - 108s 6ms/step - loss: 0.2057 - acc: 0.9264 - val_loss: 1.7251 - val_acc: 0.7068\n",
      "Epoch 91/100\n",
      "17562/17562 [==============================] - 108s 6ms/step - loss: 0.2095 - acc: 0.9240 - val_loss: 1.6570 - val_acc: 0.6888\n",
      "Epoch 92/100\n",
      "17562/17562 [==============================] - 107s 6ms/step - loss: 0.2013 - acc: 0.9282 - val_loss: 1.8256 - val_acc: 0.7198\n",
      "Epoch 93/100\n",
      "17562/17562 [==============================] - 110s 6ms/step - loss: 0.1969 - acc: 0.9269 - val_loss: 1.7566 - val_acc: 0.7233\n",
      "Epoch 94/100\n",
      "17562/17562 [==============================] - 110s 6ms/step - loss: 0.1939 - acc: 0.9305 - val_loss: 1.7162 - val_acc: 0.7195\n",
      "Epoch 95/100\n",
      "17562/17562 [==============================] - 109s 6ms/step - loss: 0.1932 - acc: 0.9278 - val_loss: 1.7023 - val_acc: 0.7019\n",
      "Epoch 96/100\n",
      "17562/17562 [==============================] - 110s 6ms/step - loss: 0.1911 - acc: 0.9301 - val_loss: 1.7650 - val_acc: 0.7206\n",
      "Epoch 97/100\n",
      "17562/17562 [==============================] - 110s 6ms/step - loss: 0.1872 - acc: 0.9338 - val_loss: 1.7348 - val_acc: 0.7095\n",
      "Epoch 98/100\n",
      "17562/17562 [==============================] - 110s 6ms/step - loss: 0.1840 - acc: 0.9333 - val_loss: 1.8926 - val_acc: 0.7243\n",
      "Epoch 99/100\n",
      "17562/17562 [==============================] - 110s 6ms/step - loss: 0.1877 - acc: 0.9324 - val_loss: 1.7547 - val_acc: 0.7123\n",
      "Epoch 100/100\n",
      "17562/17562 [==============================] - 109s 6ms/step - loss: 0.1809 - acc: 0.9337 - val_loss: 1.8542 - val_acc: 0.7237\n"
     ]
    }
   ],
   "source": [
    "from keras import models\n",
    "from keras import layers\n",
    "from keras import optimizers\n",
    "\n",
    "model = models.Sequential()\n",
    "model.add(layers.Dense(256, activation='relu', input_dim=7 * 7 * 1024))\n",
    "model.add(layers.Dropout(0.5))\n",
    "model.add(layers.Dense(5, activation='softmax'))\n",
    "\n",
    "model.compile(optimizer=optimizers.RMSprop(lr=2e-5),\n",
    "loss='categorical_crossentropy',\n",
    "metrics=['acc'])\n",
    "\n",
    "history = model.fit(train_features, train_labels,\n",
    "epochs=100,\n",
    "batch_size=20,\n",
    "validation_data=(validation_features, validation_labels))"
   ]
  },
  {
   "cell_type": "code",
   "execution_count": 38,
   "metadata": {},
   "outputs": [
    {
     "data": {
      "image/png": "[encoded data removed]",
      "text/plain": [
       "<Figure size 432x288 with 1 Axes>"
      ]
     },
     "metadata": {},
     "output_type": "display_data"
    },
    {
     "data": {
      "image/png": "[encoded data removed]",
      "text/plain": [
       "<Figure size 432x288 with 1 Axes>"
      ]
     },
     "metadata": {},
     "output_type": "display_data"
    }
   ],
   "source": [
    "import matplotlib.pyplot as plt\n",
    "acc = history.history['acc']\n",
    "val_acc = history.history['val_acc']\n",
    "loss = history.history['loss']\n",
    "val_loss = history.history['val_loss']\n",
    "epochs = range(1, len(acc) + 1)\n",
    "plt.plot(epochs, acc, 'bo', label='Training acc')\n",
    "plt.plot(epochs, val_acc, 'b', label='Validation acc')\n",
    "plt.title('Training and validation accuracy')\n",
    "plt.legend()\n",
    "plt.figure()\n",
    "plt.plot(epochs, loss, 'bo', label='Training loss')\n",
    "plt.plot(epochs, val_loss, 'b', label='Validation loss')\n",
    "plt.title('Training and validation loss')\n",
    "plt.legend()\n",
    "plt.show()"
   ]
  },
  {
   "cell_type": "code",
   "execution_count": null,
   "metadata": {},
   "outputs": [],
   "source": []
  }
 ],
 "metadata": {
  "kernelspec": {
   "display_name": "Python [conda env:keras]",
   "language": "python",
   "name": "conda-env-keras-py"
  },
  "language_info": {
   "codemirror_mode": {
    "name": "ipython",
    "version": 3
   },
   "file_extension": ".py",
   "mimetype": "text/x-python",
   "name": "python",
   "nbconvert_exporter": "python",
   "pygments_lexer": "ipython3",
   "version": "3.5.5"
  }
 },
 "nbformat": 4,
 "nbformat_minor": 2
}
